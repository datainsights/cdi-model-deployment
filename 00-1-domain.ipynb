{
 "cells": [
  {
   "cell_type": "markdown",
   "id": "284be38c",
   "metadata": {},
   "source": [
    "# (PART) EDA {-}"
   ]
  },
  {
   "cell_type": "markdown",
   "id": "e3d8f83a",
   "metadata": {},
   "source": [
    "# How do you....\n"
   ]
  },
  {
   "cell_type": "markdown",
   "id": "0468819f",
   "metadata": {},
   "source": [
    "# (PART) VIZ {-}"
   ]
  },
  {
   "cell_type": "markdown",
   "id": "b5039340",
   "metadata": {},
   "source": [
    "# How do you....\n"
   ]
  },
  {
   "cell_type": "markdown",
   "id": "314aa715",
   "metadata": {},
   "source": [
    "# (PART) STATS {-}\n"
   ]
  },
  {
   "cell_type": "markdown",
   "id": "157415db",
   "metadata": {},
   "source": [
    "# How do you....\n"
   ]
  },
  {
   "cell_type": "markdown",
   "id": "e6712daf",
   "metadata": {},
   "source": [
    "# (PART) ML {-}\n"
   ]
  },
  {
   "cell_type": "markdown",
   "id": "8d90c630",
   "metadata": {},
   "source": [
    "# How do you...."
   ]
  }
 ],
 "metadata": {
  "kernelspec": {
   "display_name": "Python 3",
   "language": "python",
   "name": "python3"
  },
  "language_info": {
   "name": "python",
   "version": "3.12.6"
  }
 },
 "nbformat": 4,
 "nbformat_minor": 5
}
